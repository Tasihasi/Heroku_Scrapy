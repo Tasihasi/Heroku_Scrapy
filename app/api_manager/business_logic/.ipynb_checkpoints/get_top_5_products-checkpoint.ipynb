{
 "cells": [
  {
   "cell_type": "code",
   "execution_count": 1,
   "id": "dedda085-a9ab-4c81-bb32-c195b60676d9",
   "metadata": {},
   "outputs": [],
   "source": [
    "import pandas as pd\n",
    "import numpy as np\n",
    "import json\n",
    "import xml.etree.ElementTree as ET"
   ]
  },
  {
   "cell_type": "code",
   "execution_count": 2,
   "id": "1e1f2dc2-82c9-4004-b18a-07b76abf9845",
   "metadata": {},
   "outputs": [],
   "source": [
    "manufactured = \"Ut�ngy�rtott\"\n",
    "manufactured_correct = \"Utángyártott\""
   ]
  },
  {
   "cell_type": "code",
   "execution_count": 3,
   "id": "135ddf6b-1d15-4488-9960-ad377ac4485c",
   "metadata": {},
   "outputs": [
    {
     "name": "stdout",
     "output_type": "stream",
     "text": [
      "     price            competitor product_name originality\n",
      "0     5685        onlinetoner.hu   HP N9K06AE    original\n",
      "1     5690             pcland.hu   HP N9K06AE    original\n",
      "2     6490               alza.hu   HP N9K06AE    original\n",
      "3     5590         primatinta.hu   HP N9K06AE    original\n",
      "4     5685        onlinetoner.hu   HP N9K06AE    original\n",
      "..     ...                   ...          ...         ...\n",
      "198  19002  kellekanyagonline.hu   HP T6M15AE    original\n",
      "199  19032            wincity.hu   HP T6M15AE    original\n",
      "200  19089                pcx.hu   HP T6M15AE    original\n",
      "201  19100         totalprint.hu   HP T6M15AE    original\n",
      "202  19209     homeofficeshop.hu   HP T6M15AE    original\n",
      "\n",
      "[203 rows x 4 columns]\n"
     ]
    }
   ],
   "source": [
    "# Initialize an empty list to hold the JSON objects\n",
    "data = []\n",
    "\n",
    "# Read the JSONL file line by line\n",
    "with open(\"output.jsonl\", 'r', encoding='utf-8') as f:\n",
    "    for line in f:\n",
    "        try:\n",
    "            # Parse the JSON object and append to the list\n",
    "            data.append(json.loads(line))\n",
    "        except ValueError as e:\n",
    "            print(f\"Error decoding line: {line}\\nError: {e}\")\n",
    "\n",
    "# Convert the list of JSON objects to a DataFrame\n",
    "df = pd.DataFrame(data)\n",
    "\n",
    "df.drop(\"url\", axis=1, inplace=True)\n",
    "df.drop(\"availability\", axis=1, inplace=True)\n",
    "\n",
    "# Add a new attribute named Originality\n",
    "df['originality'] = df['product_name'].apply(lambda x: 'manufactured' if manufactured in x else 'original')\n",
    "\n",
    "# Remove \"manufactured\" from product_name if it exists and handle extra spaces\n",
    "df['product_name'] = df['product_name'].apply(\n",
    "    lambda x: x.replace(manufactured, '').replace('  ', ' ').strip() if manufactured in x else x\n",
    ")\n",
    "\n",
    "\n",
    "# Display the first few rows of the dataframe\n",
    "print(df)"
   ]
  },
  {
   "cell_type": "code",
   "execution_count": 5,
   "id": "e8f25438-78be-49c2-9325-e1a6a24117e6",
   "metadata": {},
   "outputs": [
    {
     "name": "stdout",
     "output_type": "stream",
     "text": [
      "     price      competitor                    product_name originality\n",
      "0     5685  onlinetoner.hu                      HP N9K06AE    original\n",
      "120  17461  onlinetoner.hu                      HP T6M15AE    original\n",
      "60    4990     tonerek.com  Utángyártott Samsung MLT-D116L    original\n"
     ]
    }
   ],
   "source": [
    "# Drop duplicates based on product_name\n",
    "unique_products = df.drop_duplicates(subset='product_name')\n",
    "\n",
    "# Determine the number of unique products\n",
    "num_unique_products = unique_products.shape[0]\n",
    "\n",
    "# Sample size should be the lesser of the number of unique products or the desired sample size\n",
    "sample_size = min(5, num_unique_products)\n",
    "\n",
    "# Select the sample size of different product names with prices\n",
    "sample_products = unique_products.sample(n=sample_size, random_state=1)\n",
    "\n",
    "sample_products = sample_products.drop(\"competitor\")\n",
    "\n",
    "print(sample_products)"
   ]
  },
  {
   "cell_type": "code",
   "execution_count": 6,
   "id": "8268384c-4d9a-4546-8f8b-daf8d749f394",
   "metadata": {},
   "outputs": [],
   "source": [
    "sample_products.to_xml(\"top_5_products.xml\")"
   ]
  },
  {
   "cell_type": "code",
   "execution_count": null,
   "id": "2c696f40-8daf-4bed-8ffb-12b4c83d1a33",
   "metadata": {},
   "outputs": [],
   "source": []
  }
 ],
 "metadata": {
  "kernelspec": {
   "display_name": "Python 3 (ipykernel)",
   "language": "python",
   "name": "python3"
  },
  "language_info": {
   "codemirror_mode": {
    "name": "ipython",
    "version": 3
   },
   "file_extension": ".py",
   "mimetype": "text/x-python",
   "name": "python",
   "nbconvert_exporter": "python",
   "pygments_lexer": "ipython3",
   "version": "3.12.3"
  }
 },
 "nbformat": 4,
 "nbformat_minor": 5
}
