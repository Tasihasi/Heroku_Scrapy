{
 "cells": [
  {
   "cell_type": "code",
   "execution_count": 19,
   "id": "d5bc0dc1-349d-45fe-829f-a34e0cb65ae6",
   "metadata": {},
   "outputs": [],
   "source": [
    "import pandas as pd\n",
    "import numpy as np\n",
    "import json\n",
    "import xml.etree.ElementTree as ET"
   ]
  },
  {
   "cell_type": "code",
   "execution_count": 2,
   "id": "3ad8abd6-14ff-4e99-8d36-ff5bced2112d",
   "metadata": {},
   "outputs": [],
   "source": [
    "manufactured = \"Ut�ngy�rtott\"\n",
    "manufactured_correct = \"Utángyártott\""
   ]
  },
  {
   "cell_type": "code",
   "execution_count": 6,
   "id": "518a12c0-565f-4057-adc9-5950bbed35d2",
   "metadata": {},
   "outputs": [
    {
     "name": "stdout",
     "output_type": "stream",
     "text": [
      "     price            competitor product_name originality\n",
      "0     5685        onlinetoner.hu   HP N9K06AE    original\n",
      "1     5690             pcland.hu   HP N9K06AE    original\n",
      "2     6490               alza.hu   HP N9K06AE    original\n",
      "3     5590         primatinta.hu   HP N9K06AE    original\n",
      "4     5685        onlinetoner.hu   HP N9K06AE    original\n",
      "..     ...                   ...          ...         ...\n",
      "198  19002  kellekanyagonline.hu   HP T6M15AE    original\n",
      "199  19032            wincity.hu   HP T6M15AE    original\n",
      "200  19089                pcx.hu   HP T6M15AE    original\n",
      "201  19100         totalprint.hu   HP T6M15AE    original\n",
      "202  19209     homeofficeshop.hu   HP T6M15AE    original\n",
      "\n",
      "[203 rows x 4 columns]\n"
     ]
    }
   ],
   "source": [
    "# Initialize an empty list to hold the JSON objects\n",
    "data = []\n",
    "\n",
    "# Read the JSONL file line by line\n",
    "with open(\"output.jsonl\", 'r', encoding='utf-8') as f:\n",
    "    for line in f:\n",
    "        try:\n",
    "            # Parse the JSON object and append to the list\n",
    "            data.append(json.loads(line))\n",
    "        except ValueError as e:\n",
    "            print(f\"Error decoding line: {line}\\nError: {e}\")\n",
    "\n",
    "# Convert the list of JSON objects to a DataFrame\n",
    "df = pd.DataFrame(data)\n",
    "\n",
    "df.drop(\"availability\", axis=1, inplace=True)\n",
    "\n",
    "# Add a new attribute named Originality\n",
    "df['originality'] = df['product_name'].apply(lambda x: 'manufactured' if manufactured in x else 'original')\n",
    "\n",
    "# Remove \"manufactured\" from product_name if it exists and handle extra spaces\n",
    "df['product_name'] = df['product_name'].apply(\n",
    "    lambda x: x.replace(manufactured, '').replace('  ', ' ').strip() if manufactured in x else x\n",
    ")\n",
    "\n",
    "\n",
    "# Display the first few rows of the dataframe\n",
    "print(df)"
   ]
  },
  {
   "cell_type": "code",
   "execution_count": 8,
   "id": "9085793c-eb08-4daf-9a2f-e5dd3f8a36dd",
   "metadata": {},
   "outputs": [
    {
     "data": {
      "text/html": [
       "<div>\n",
       "<style scoped>\n",
       "    .dataframe tbody tr th:only-of-type {\n",
       "        vertical-align: middle;\n",
       "    }\n",
       "\n",
       "    .dataframe tbody tr th {\n",
       "        vertical-align: top;\n",
       "    }\n",
       "\n",
       "    .dataframe thead th {\n",
       "        text-align: right;\n",
       "    }\n",
       "</style>\n",
       "<table border=\"1\" class=\"dataframe\">\n",
       "  <thead>\n",
       "    <tr style=\"text-align: right;\">\n",
       "      <th></th>\n",
       "      <th>name</th>\n",
       "      <th>originality</th>\n",
       "      <th>customer_name</th>\n",
       "      <th>min_price</th>\n",
       "      <th>lower_min</th>\n",
       "    </tr>\n",
       "  </thead>\n",
       "  <tbody>\n",
       "    <tr>\n",
       "      <th>0</th>\n",
       "      <td>Samsung MLT-D116L</td>\n",
       "      <td>manufactured</td>\n",
       "      <td></td>\n",
       "      <td>200</td>\n",
       "      <td>10</td>\n",
       "    </tr>\n",
       "    <tr>\n",
       "      <th>1</th>\n",
       "      <td>Samsung MLT-D116L</td>\n",
       "      <td>original</td>\n",
       "      <td></td>\n",
       "      <td>200</td>\n",
       "      <td>10</td>\n",
       "    </tr>\n",
       "    <tr>\n",
       "      <th>2</th>\n",
       "      <td>HP CZ101AE</td>\n",
       "      <td>original</td>\n",
       "      <td></td>\n",
       "      <td>500</td>\n",
       "      <td>100</td>\n",
       "    </tr>\n",
       "    <tr>\n",
       "      <th>3</th>\n",
       "      <td>Canon CL-541XL Color (BS5226B005AA)</td>\n",
       "      <td>original</td>\n",
       "      <td></td>\n",
       "      <td>13250</td>\n",
       "      <td>100</td>\n",
       "    </tr>\n",
       "  </tbody>\n",
       "</table>\n",
       "</div>"
      ],
      "text/plain": [
       "                                  name   originality customer_name  min_price  \\\n",
       "0                    Samsung MLT-D116L  manufactured                      200   \n",
       "1                    Samsung MLT-D116L      original                      200   \n",
       "2                           HP CZ101AE      original                      500   \n",
       "3  Canon CL-541XL Color (BS5226B005AA)      original                    13250   \n",
       "\n",
       "   lower_min  \n",
       "0         10  \n",
       "1         10  \n",
       "2        100  \n",
       "3        100  "
      ]
     },
     "execution_count": 8,
     "metadata": {},
     "output_type": "execute_result"
    }
   ],
   "source": [
    "customer_df = pd.read_json(\"customer_request.json\")\n",
    "\n",
    "customer_df"
   ]
  },
  {
   "cell_type": "code",
   "execution_count": 9,
   "id": "424297e0-0586-42fc-b369-910a85336127",
   "metadata": {},
   "outputs": [
    {
     "data": {
      "text/plain": [
       "{'HP N9K06AE', 'HP T6M15AE', 'Utángyártott Samsung MLT-D116L'}"
      ]
     },
     "execution_count": 9,
     "metadata": {},
     "output_type": "execute_result"
    }
   ],
   "source": [
    "# Check for mismatched values between product_name and name columns\n",
    "mismatched_products = set(df[\"product_name\"]) - set(customer_df[\"name\"])\n",
    "\n",
    "mismatched_products"
   ]
  },
  {
   "cell_type": "code",
   "execution_count": 10,
   "id": "a4e1d3a4-14f5-4317-bd4e-fdf701381cf9",
   "metadata": {},
   "outputs": [],
   "source": [
    "# Create masks to check if names and originality in one DataFrame are in the other\n",
    "def check_common(row, other_df):\n",
    "    matches = other_df[(other_df['name'] == row['product_name']) & (other_df['originality'] == row['originality'])]\n",
    "    return len(matches) > 0"
   ]
  },
  {
   "cell_type": "code",
   "execution_count": 11,
   "id": "37296052-4fd9-448f-99d7-43952465e014",
   "metadata": {},
   "outputs": [],
   "source": [
    "mask_df = df.apply(lambda row: check_common(row, customer_df), axis=1)"
   ]
  },
  {
   "cell_type": "code",
   "execution_count": 12,
   "id": "c3902f02-0247-4601-8042-9b4667b4f181",
   "metadata": {},
   "outputs": [
    {
     "data": {
      "text/html": [
       "<div>\n",
       "<style scoped>\n",
       "    .dataframe tbody tr th:only-of-type {\n",
       "        vertical-align: middle;\n",
       "    }\n",
       "\n",
       "    .dataframe tbody tr th {\n",
       "        vertical-align: top;\n",
       "    }\n",
       "\n",
       "    .dataframe thead th {\n",
       "        text-align: right;\n",
       "    }\n",
       "</style>\n",
       "<table border=\"1\" class=\"dataframe\">\n",
       "  <thead>\n",
       "    <tr style=\"text-align: right;\">\n",
       "      <th></th>\n",
       "      <th>price</th>\n",
       "      <th>competitor</th>\n",
       "      <th>product_name</th>\n",
       "      <th>originality</th>\n",
       "    </tr>\n",
       "  </thead>\n",
       "  <tbody>\n",
       "  </tbody>\n",
       "</table>\n",
       "</div>"
      ],
      "text/plain": [
       "Empty DataFrame\n",
       "Columns: [price, competitor, product_name, originality]\n",
       "Index: []"
      ]
     },
     "execution_count": 12,
     "metadata": {},
     "output_type": "execute_result"
    }
   ],
   "source": [
    "#mask_customer_df = customer_df.apply(lambda row: check_common(row, df), axis=1)\n",
    "\n",
    "# Filter the DataFrames using the masks\n",
    "common_in_df = df[mask_df]\n",
    "\n",
    "#print(set(common_in_df[\"product_name\"].tolist()))\n",
    "common_in_df\n"
   ]
  },
  {
   "cell_type": "code",
   "execution_count": 13,
   "id": "09cb7ed4-e685-4922-a5b4-a0f2d87b9063",
   "metadata": {},
   "outputs": [
    {
     "data": {
      "text/html": [
       "<div>\n",
       "<style scoped>\n",
       "    .dataframe tbody tr th:only-of-type {\n",
       "        vertical-align: middle;\n",
       "    }\n",
       "\n",
       "    .dataframe tbody tr th {\n",
       "        vertical-align: top;\n",
       "    }\n",
       "\n",
       "    .dataframe thead th {\n",
       "        text-align: right;\n",
       "    }\n",
       "</style>\n",
       "<table border=\"1\" class=\"dataframe\">\n",
       "  <thead>\n",
       "    <tr style=\"text-align: right;\">\n",
       "      <th></th>\n",
       "      <th></th>\n",
       "      <th>price</th>\n",
       "      <th>competitor</th>\n",
       "    </tr>\n",
       "    <tr>\n",
       "      <th>product_name</th>\n",
       "      <th>originality</th>\n",
       "      <th></th>\n",
       "      <th></th>\n",
       "    </tr>\n",
       "  </thead>\n",
       "  <tbody>\n",
       "  </tbody>\n",
       "</table>\n",
       "</div>"
      ],
      "text/plain": [
       "Empty DataFrame\n",
       "Columns: [price, competitor]\n",
       "Index: []"
      ]
     },
     "execution_count": 13,
     "metadata": {},
     "output_type": "execute_result"
    }
   ],
   "source": [
    "min_values = common_in_df.groupby(['product_name', 'originality']).min()\n",
    "\n",
    "min_values"
   ]
  },
  {
   "cell_type": "code",
   "execution_count": 14,
   "id": "afb231aa-48b6-4059-8ba3-768498093407",
   "metadata": {},
   "outputs": [
    {
     "data": {
      "text/html": [
       "<div>\n",
       "<style scoped>\n",
       "    .dataframe tbody tr th:only-of-type {\n",
       "        vertical-align: middle;\n",
       "    }\n",
       "\n",
       "    .dataframe tbody tr th {\n",
       "        vertical-align: top;\n",
       "    }\n",
       "\n",
       "    .dataframe thead th {\n",
       "        text-align: right;\n",
       "    }\n",
       "</style>\n",
       "<table border=\"1\" class=\"dataframe\">\n",
       "  <thead>\n",
       "    <tr style=\"text-align: right;\">\n",
       "      <th></th>\n",
       "      <th>product_name</th>\n",
       "      <th>originality</th>\n",
       "      <th>price</th>\n",
       "      <th>competitor</th>\n",
       "      <th>min_price</th>\n",
       "      <th>lower_min</th>\n",
       "      <th>lowered_price</th>\n",
       "    </tr>\n",
       "  </thead>\n",
       "  <tbody>\n",
       "  </tbody>\n",
       "</table>\n",
       "</div>"
      ],
      "text/plain": [
       "Empty DataFrame\n",
       "Columns: [product_name, originality, price, competitor, min_price, lower_min, lowered_price]\n",
       "Index: []"
      ]
     },
     "execution_count": 14,
     "metadata": {},
     "output_type": "execute_result"
    }
   ],
   "source": [
    "# Rename 'name' column in customer_df to 'product_name'\n",
    "customer_df = customer_df.rename(columns={'name': 'product_name'})\n",
    "\n",
    "# Merge the dataframes\n",
    "merged_df = pd.merge(min_values, customer_df[['product_name', 'originality', 'min_price', 'lower_min']], on=['product_name', 'originality'])\n",
    "\n",
    "# Convert 'price' and 'lower_min' to numeric types\n",
    "merged_df['price'] = pd.to_numeric(merged_df['price'], errors='coerce')\n",
    "merged_df['lower_min'] = pd.to_numeric(merged_df['lower_min'], errors='coerce')\n",
    "\n",
    "# Lower the price by 'lower_min' amount\n",
    "merged_df['lowered_price'] = merged_df['price'] - merged_df['lower_min']\n",
    "\n",
    "# If 'lowered_price' is less than 'min_price', set 'lowered_price' to 'min_price'\n",
    "merged_df['lowered_price'] = np.where(merged_df['lowered_price'] < merged_df['min_price'], merged_df['min_price'], merged_df['lowered_price'])\n",
    "\n",
    "merged_df"
   ]
  },
  {
   "cell_type": "code",
   "execution_count": 20,
   "id": "1a86222e-7a0b-4fba-a615-21c4134c0969",
   "metadata": {},
   "outputs": [
    {
     "name": "stdout",
     "output_type": "stream",
     "text": [
      "The DataFrame is empty. Creating a placeholder XML file.\n"
     ]
    }
   ],
   "source": [
    "\n",
    "\n",
    "if merged_df.empty:\n",
    "    print(\"The DataFrame is empty. Creating a placeholder XML file.\")\n",
    "    # Create the root element\n",
    "    root = ET.Element(\"root\")\n",
    "\n",
    "    # Create a tree object from the root element\n",
    "    tree = ET.ElementTree(root)\n",
    "\n",
    "    # Write the tree to an XML file\n",
    "    tree.write(\"customer_min_prices.xml\")\n",
    "else:\n",
    "    try:\n",
    "        merged_df.to_xml('customer_min_prices.xml')\n",
    "    except Exception as e:\n",
    "        print(f\"An {e} error occurred while converting the DataFrame to XML.\")\n"
   ]
  },
  {
   "cell_type": "code",
   "execution_count": null,
   "id": "805ba152-bcd2-4e68-8350-53a3a7d0de3b",
   "metadata": {},
   "outputs": [],
   "source": []
  },
  {
   "cell_type": "code",
   "execution_count": null,
   "id": "2718ccf7-02fa-48ab-ba2e-c781544363d7",
   "metadata": {},
   "outputs": [],
   "source": []
  },
  {
   "cell_type": "code",
   "execution_count": null,
   "id": "70846704-8fc1-4e24-b089-97c2ccffb4d7",
   "metadata": {},
   "outputs": [],
   "source": []
  },
  {
   "cell_type": "code",
   "execution_count": null,
   "id": "6924d2b1-6ded-4185-ba33-74289bf31a70",
   "metadata": {},
   "outputs": [],
   "source": []
  }
 ],
 "metadata": {
  "kernelspec": {
   "display_name": "Python 3 (ipykernel)",
   "language": "python",
   "name": "python3"
  },
  "language_info": {
   "codemirror_mode": {
    "name": "ipython",
    "version": 3
   },
   "file_extension": ".py",
   "mimetype": "text/x-python",
   "name": "python",
   "nbconvert_exporter": "python",
   "pygments_lexer": "ipython3",
   "version": "3.12.3"
  }
 },
 "nbformat": 4,
 "nbformat_minor": 5
}
